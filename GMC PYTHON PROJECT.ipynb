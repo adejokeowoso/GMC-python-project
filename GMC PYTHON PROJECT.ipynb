{
 "cells": [
  {
   "cell_type": "code",
   "execution_count": 1,
   "id": "aed2fce4",
   "metadata": {},
   "outputs": [
    {
     "name": "stdout",
     "output_type": "stream",
     "text": [
      "8\n",
      "{1: 1, 2: 4, 3: 9, 4: 16, 5: 25, 6: 36, 7: 49, 8: 64}\n"
     ]
    }
   ],
   "source": [
    "n=int(input())\n",
    "d=dict()\n",
    "for i in range(1,n+1):\n",
    "    d[i]=i*i\n",
    "print(d)"
   ]
  },
  {
   "cell_type": "code",
   "execution_count": null,
   "id": "26ccd432",
   "metadata": {},
   "outputs": [],
   "source": [
    "def DPfact(N):\n",
    "    arr={}\n",
    "    if N in arr:\n",
    "        return arr[N]\n",
    "    elif N == 0 or N == 1:\n",
    "        return 1\n",
    "        arr[N] = 1\n",
    "    else:\n",
    "        factorial = N*DPfact(N - 1)\n",
    "        arr[N] = factorial\n",
    "    return factorial\n",
    "    \n",
    "num=int(input(\"Enter the number: \"))\n",
    "\n",
    "print(\"factorial of \",num,\" (dynamic): \",end=\"\")\n",
    "print(DPfact(num))"
   ]
  },
  {
   "cell_type": "code",
   "execution_count": null,
   "id": "1d29d587",
   "metadata": {},
   "outputs": [],
   "source": [
    "for x in range (2000, 3201):\n",
    "  if x % 7 == 0 and x % 5 != 0:\n",
    "    print(x)"
   ]
  },
  {
   "cell_type": "code",
   "execution_count": null,
   "id": "f2ebfe32",
   "metadata": {},
   "outputs": [],
   "source": [
    "def remove_char(str, n):\n",
    "      first_part = str[:n] \n",
    "      last_part = str[n+1:]\n",
    "      return first_part + last_part\n",
    "print(remove_char('kitten', 1))\n",
    "print(remove_char('kitten', 0))\n",
    "print(remove_char('kitten', 4))"
   ]
  },
  {
   "cell_type": "code",
   "execution_count": null,
   "id": "d01606b6",
   "metadata": {},
   "outputs": [],
   "source": [
    "import numpy as np\n",
    ">>> np.array([[1,2,3],[4,5]]).tolist()\n",
    "[[1, 2, 3], [4, 5]]"
   ]
  },
  {
   "cell_type": "code",
   "execution_count": null,
   "id": "6f744057",
   "metadata": {},
   "outputs": [],
   "source": [
    "import numpy as np\n",
    "x = np.array([0, 1, 2])\n",
    "y = np.array([2, 1, 0])\n",
    "print(\"\\nOriginal array1:\")\n",
    "print(x)\n",
    "print(\"\\nOriginal array1:\")\n",
    "print(y)\n",
    "print(\"\\nCovariance matrix of the said arrays:\\n\",np.cov(x, y))"
   ]
  },
  {
   "cell_type": "code",
   "execution_count": null,
   "id": "7bacca52",
   "metadata": {},
   "outputs": [],
   "source": [
    "import math\n",
    "\n",
    "C= 50\n",
    "H = 30\n",
    "Ds = []\n",
    "result =[]\n",
    "Dv=input(\"enter the value of D\\n\")\n",
    "Ds=Dv.split(\",\")\n",
    "Ds = [int(i) for i in Ds]\n",
    "i=0\n",
    "l = len(Ds)\n",
    "while(i<l):\n",
    "    Q = round(math.sqrt((2*C*Ds[i])/H))\n",
    "    result. append(Q)\n",
    "    i+=1\n",
    "print(\"output=\",result)"
   ]
  },
  {
   "cell_type": "code",
   "execution_count": null,
   "id": "5281ffea",
   "metadata": {},
   "outputs": [],
   "source": []
  }
 ],
 "metadata": {
  "kernelspec": {
   "display_name": "Python 3",
   "language": "python",
   "name": "python3"
  },
  "language_info": {
   "codemirror_mode": {
    "name": "ipython",
    "version": 3
   },
   "file_extension": ".py",
   "mimetype": "text/x-python",
   "name": "python",
   "nbconvert_exporter": "python",
   "pygments_lexer": "ipython3",
   "version": "3.8.8"
  }
 },
 "nbformat": 4,
 "nbformat_minor": 5
}
